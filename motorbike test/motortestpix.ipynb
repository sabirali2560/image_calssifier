{
 "cells": [
  {
   "cell_type": "code",
   "execution_count": 2,
   "metadata": {},
   "outputs": [],
   "source": [
    "import cv2\n",
    "import glob2\n",
    "import numpy as np\n",
    "\n",
    "X_pix=np.zeros((26,64,64,3))\n",
    "images=glob2.glob('*.jpg')\n",
    "i=0\n",
    "for image in images:\n",
    "    img=cv2.imread(image,1)\n",
    "    img_re=cv2.resize(img,(64,64))\n",
    "    X_pix[i,:,:,:]=img_re[:,:,:]\n",
    "    i+=1\n",
    "X_pix=np.reshape(X_pix,(26,12288))\n",
    "y=3*np.ones((26,1))\n",
    "\n",
    "#saving the pixel intensities and corresponding labels to a csv file\n",
    "\n",
    "np.savetxt('C:/Users/Abbas Shah/motortest0.txt',X_pix)\n",
    "np.savetxt('C:/Users/Abbas Shah/motortest1.txt',y)"
   ]
  },
  {
   "cell_type": "code",
   "execution_count": null,
   "metadata": {},
   "outputs": [],
   "source": []
  }
 ],
 "metadata": {
  "kernelspec": {
   "display_name": "Python 3",
   "language": "python",
   "name": "python3"
  },
  "language_info": {
   "codemirror_mode": {
    "name": "ipython",
    "version": 3
   },
   "file_extension": ".py",
   "mimetype": "text/x-python",
   "name": "python",
   "nbconvert_exporter": "python",
   "pygments_lexer": "ipython3",
   "version": "3.5.2"
  }
 },
 "nbformat": 4,
 "nbformat_minor": 2
}
